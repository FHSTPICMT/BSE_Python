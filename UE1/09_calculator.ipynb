{
 "cells": [
  {
   "cell_type": "code",
   "execution_count": null,
   "metadata": {},
   "outputs": [],
   "source": [
    "print(\"\"\"\n",
    "      ====================================================\n",
    "      ==                 Taschenrechner                 ==\n",
    "      ====================================================\n",
    "    \"\"\")\n",
    "\n",
    "num1 = input(\"Gib die erste Zahl ein: \")\n",
    "oper = input(\"Welche Rechenoperation soll durchgefuehrt werden? \")\n",
    "num2 = input(\"Gib die zweite Zahl ein: \")\n",
    "\n",
    "num1 = int(num1)\n",
    "num2 = int(num2)\n",
    "\n",
    "\n",
    "if (oper == \"+\"):\n",
    "    print(\"Deine Rechnung: \",\n",
    "\n",
    "          num1, \" + \", num2)\n",
    "    print(\"Ergebnis: \",\n",
    "          num1 + num2)\n",
    "\n",
    "elif (oper == \"-\"):\n",
    "    print(\"Deine Rechnung: \",\n",
    "          num1, \" - \", num2)\n",
    "    print(\"Ergebnis: \",\n",
    "          num1 - num2)\n",
    "\n",
    "elif (oper == \"/\"):\n",
    "    print(\"Deine Rechnung: \",\n",
    "          num1, \" / \", num2)\n",
    "    print(\"Ergebnis: \",\n",
    "          num1 / num2)\n",
    "\n",
    "elif (oper == \"*\"):\n",
    "    print(\"Deine Rechnung: \",\n",
    "          num1, \" * \", num2)\n",
    "    print(\"Ergebnis: \",\n",
    "          num1 * num2)\n",
    "    \n",
    "else:\n",
    "     print(\"Keine gueltige Eingabe\")"
   ]
  }
 ],
 "metadata": {
  "kernelspec": {
   "display_name": "Python 3",
   "language": "python",
   "name": "python3"
  },
  "language_info": {
   "codemirror_mode": {
    "name": "ipython",
    "version": 3
   },
   "file_extension": ".py",
   "mimetype": "text/x-python",
   "name": "python",
   "nbconvert_exporter": "python",
   "pygments_lexer": "ipython3",
   "version": "3.7.6"
  }
 },
 "nbformat": 4,
 "nbformat_minor": 4
}
