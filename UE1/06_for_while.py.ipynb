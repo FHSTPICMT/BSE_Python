{
 "cells": [
  {
   "cell_type": "markdown",
   "metadata": {},
   "source": [
    "# while loop"
   ]
  },
  {
   "cell_type": "code",
   "execution_count": null,
   "metadata": {
    "scrolled": true
   },
   "outputs": [],
   "source": [
    "# While-loop\n",
    "counter = 0\n",
    "while counter < 10:\n",
    "\tprint( \"The counter value is: {}\".format( counter ) )\n",
    "\tcounter += 1\n",
    "print( \"End of while loop\" )"
   ]
  },
  {
   "cell_type": "markdown",
   "metadata": {},
   "source": [
    "# while else loop"
   ]
  },
  {
   "cell_type": "code",
   "execution_count": null,
   "metadata": {},
   "outputs": [],
   "source": [
    "#While Else - loop\n",
    "counter = 0\n",
    "while counter < 10:\n",
    "\tprint( \"The counter value is: {}\".format( counter ) )\n",
    "\tcounter += 1\n",
    "else:\n",
    "\tprint( \"End of while loop because the counter is not longer less than 10 --> counter = {}\".format( counter ) )"
   ]
  },
  {
   "cell_type": "markdown",
   "metadata": {},
   "source": [
    "# for loop"
   ]
  },
  {
   "cell_type": "markdown",
   "metadata": {},
   "source": [
    "<img src=\"Images/loop.png\" alt=\"Drawing\" style=\"width: 300px;\"/>"
   ]
  },
  {
   "cell_type": "code",
   "execution_count": null,
   "metadata": {},
   "outputs": [],
   "source": [
    "#For-loop\n",
    "for letter in 'Hello World':\n",
    "\tprint( \"Current Letter : {}\".format( letter ) )"
   ]
  },
  {
   "cell_type": "code",
   "execution_count": null,
   "metadata": {},
   "outputs": [],
   "source": [
    "animals = ['dog', 'cat', 'frog', 'alpaca', 'sloth', 'bear', 'shark', 'deer']\n",
    "for animal in animals: \n",
    "\tprint( \"Current animal : {}\".format( animal ) )\n",
    "else:\n",
    "\tprint( \"Good bye!\" )"
   ]
  },
  {
   "cell_type": "code",
   "execution_count": null,
   "metadata": {},
   "outputs": [],
   "source": [
    "#For else\n",
    "for animal in animals: \n",
    "\tprint( \"Current animal : {}\".format( animal ) )\n",
    "else:\n",
    "\tprint( \"Good bye from the else-statement!\" )"
   ]
  },
  {
   "cell_type": "markdown",
   "metadata": {},
   "source": [
    "# Infinite Loop"
   ]
  },
  {
   "cell_type": "markdown",
   "metadata": {},
   "source": [
    "<img src=\"Images/infinity.jpg\" alt=\"Drawing\" style=\"width: 400px;\"/>"
   ]
  },
  {
   "cell_type": "code",
   "execution_count": null,
   "metadata": {},
   "outputs": [],
   "source": [
    "try:\n",
    "\twhile True:\n",
    "\t\tprint(\"Im in the loop\")\n",
    "except KeyboardInterrupt:\n",
    "    print('interrupted!')"
   ]
  }
 ],
 "metadata": {
  "kernelspec": {
   "display_name": "Python 3",
   "language": "python",
   "name": "python3"
  },
  "language_info": {
   "codemirror_mode": {
    "name": "ipython",
    "version": 3
   },
   "file_extension": ".py",
   "mimetype": "text/x-python",
   "name": "python",
   "nbconvert_exporter": "python",
   "pygments_lexer": "ipython3",
   "version": "3.7.6"
  }
 },
 "nbformat": 4,
 "nbformat_minor": 4
}
