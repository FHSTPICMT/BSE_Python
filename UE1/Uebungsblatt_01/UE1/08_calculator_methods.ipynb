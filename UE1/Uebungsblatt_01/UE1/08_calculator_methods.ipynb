{
 "cells": [
  {
   "cell_type": "code",
   "execution_count": null,
   "metadata": {},
   "outputs": [
    {
     "name": "stdout",
     "output_type": "stream",
     "text": [
      "\n",
      "                  ====================================================\n",
      "                  ==                 Taschenrechner                 ==\n",
      "                  ====================================================\n",
      "                  \n",
      "Enter a number: 2\n",
      "Choose the operator:+\n"
     ]
    }
   ],
   "source": [
    "from calc_functions import add, subtract, divide, multiply\n",
    "import sys\n",
    "\n",
    "def calculate():\n",
    "    while True:   \n",
    "        try:\n",
    "            print(\"\"\"\n",
    "                  ====================================================\n",
    "                  ==                 Taschenrechner                 ==\n",
    "                  ====================================================\n",
    "                  \"\"\")\n",
    "\n",
    "            num1 = float(input(\"Enter a number: \"))\n",
    "            oper = input(\"Choose the operator:\")\n",
    "            num2 = float(input(\"Enter a second number: \"))\n",
    "\n",
    "            #num1 = float(num1)\n",
    "            #num2 = float(num2)\n",
    "\n",
    "\n",
    "            if (oper == \"+\"):\n",
    "                print(\"Your calculation: \",\n",
    "\n",
    "                      num1, \" + \", num2)\n",
    "                print(\"Result: \", add(num1, num2))\n",
    "\n",
    "            elif (oper == \"-\"):\n",
    "                print(\"Your calculation: \",\n",
    "                      num1, \" - \", num2)\n",
    "                print(\"Result: \", subtract(num1, num2))\n",
    "\n",
    "            elif (oper == \"/\"):\n",
    "                print(\"Your calculation: \",\n",
    "                      num1, \" / \", num2)\n",
    "                print(\"Result: \",divide(num1, num2))\n",
    "\n",
    "            elif (oper == \"*\"):\n",
    "                print(\"Your calculation: \",\n",
    "                      num1, \" * \", num2)\n",
    "                print(\"Result: \",\n",
    "                      multiply(num1, num2))\n",
    "\n",
    "            else:\n",
    "                print(\"Please choose a valid operator!\")\n",
    "                calculate()\n",
    "\n",
    "            calculate()\n",
    "\n",
    "        except ValueError as err:\n",
    "            print(\"Please only put in numbers!\")\n",
    "            calculate()\n",
    "        except KeyboardInterrupt:\n",
    "            print('interrupted!')\n",
    "            sys.exit()\n",
    "            \n",
    "calculate()"
   ]
  }
 ],
 "metadata": {
  "kernelspec": {
   "display_name": "Python 3",
   "language": "python",
   "name": "python3"
  },
  "language_info": {
   "codemirror_mode": {
    "name": "ipython",
    "version": 3
   },
   "file_extension": ".py",
   "mimetype": "text/x-python",
   "name": "python",
   "nbconvert_exporter": "python",
   "pygments_lexer": "ipython3",
   "version": "3.7.6"
  }
 },
 "nbformat": 4,
 "nbformat_minor": 4
}
