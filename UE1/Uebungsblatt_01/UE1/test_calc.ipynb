{
 "cells": [
  {
   "cell_type": "code",
   "execution_count": 9,
   "metadata": {},
   "outputs": [
    {
     "name": "stdout",
     "output_type": "stream",
     "text": [
      "Enter a number: 4\n",
      "Enter a second number: 2\n",
      "Add: 6.0\n",
      "Sub: 2.0\n",
      "Div: 2.0\n",
      "Multi: 8.0\n"
     ]
    }
   ],
   "source": [
    "from calc_functions import add, subtract, divide, multiply\n",
    "\n",
    "\n",
    "\n",
    "def testcalc(a, b):\n",
    "    addStr = str(add(a, b))\n",
    "    subStr = str(subtract(a, b))\n",
    "    divStr = str(divide(a, b))\n",
    "    multiStr = str(multiply(a, b))\n",
    "    print(\"Add: \" + addStr)\n",
    "    print(\"Sub: \" + subStr)\n",
    "    print(\"Div: \" + divStr)\n",
    "    print(\"Multi: \" + multiStr)\n",
    "    \n",
    "a = float(input(\"Enter a number: \"))\n",
    "b = float(input(\"Enter a second number: \"))\n",
    "    \n",
    "testcalc(a,b)"
   ]
  }
 ],
 "metadata": {
  "kernelspec": {
   "display_name": "Python 3",
   "language": "python",
   "name": "python3"
  },
  "language_info": {
   "codemirror_mode": {
    "name": "ipython",
    "version": 3
   },
   "file_extension": ".py",
   "mimetype": "text/x-python",
   "name": "python",
   "nbconvert_exporter": "python",
   "pygments_lexer": "ipython3",
   "version": "3.7.6"
  }
 },
 "nbformat": 4,
 "nbformat_minor": 4
}
