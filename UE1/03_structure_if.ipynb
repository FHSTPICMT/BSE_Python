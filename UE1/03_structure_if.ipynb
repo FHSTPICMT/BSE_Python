{
 "cells": [
  {
   "cell_type": "markdown",
   "metadata": {},
   "source": [
    "# if statements\n",
    "**IF statements do something if you meet the condition (>= 18).<br>\n",
    "In this case if you type an age older than 18 it will print \"Perfect! Of course you are 18 or older ;-) Come on in !\".<br>\n",
    "\"Have a nice day! =)\" will always be printed because it is not within the if-statement.**"
   ]
  },
  {
   "cell_type": "markdown",
   "metadata": {},
   "source": [
    "<img src=\"Images/if_age.jpeg\" alt=\"Drawing\" style=\"width: 300px;\"/>"
   ]
  },
  {
   "cell_type": "markdown",
   "metadata": {},
   "source": [
    "## Python uses the following logical conditions:\n",
    "**Equals: a == b<br>\n",
    "Not Equals: a != b<br>\n",
    "Less than: a < b<br>\n",
    "Less than or equal to: a <= b<br>\n",
    "Greater than: a > b<br>\n",
    "Greater than or equal to: a >= b<br>**"
   ]
  },
  {
   "cell_type": "code",
   "execution_count": null,
   "metadata": {
    "scrolled": true
   },
   "outputs": [],
   "source": [
    "# Structures IF\n",
    "# float(input()) returns a FLOAT value\n",
    "age = float(input(\"AGE CONTROL!: How old are you? oO \"))\n",
    "\n",
    "#\n",
    "if age >= 18:\n",
    "    #Identation is VERY IMPORTANT in python, without it would raise an error\n",
    "    print(\"Perfect! Of course you are 18 or older ;-) Come on in !\")\n",
    "\n",
    "print(\"Have a nice day! =)\")"
   ]
  },
  {
   "cell_type": "code",
   "execution_count": null,
   "metadata": {},
   "outputs": [],
   "source": []
  },
  {
   "cell_type": "markdown",
   "metadata": {},
   "source": [
    "# if / else\n",
    "**IF/ELSE is alsmost the same but if we dont meet the condition (>= 18) ELSE will execute ==> IF you cant do this do ELSE instead.**"
   ]
  },
  {
   "cell_type": "code",
   "execution_count": null,
   "metadata": {
    "scrolled": false
   },
   "outputs": [],
   "source": [
    "# Structures IF ELSE\n",
    "age = float(input(\"How old are you? \"))\n",
    "\n",
    "if age >= 18:\n",
    "    print(\"Perfect! Of course you are 18 or older ;-) Come on in !\")\n",
    "else:\n",
    "    print(\"You are too young ! Maybe try another age... emmm... try again when you are old enough :)\")\n",
    "\n",
    "print(\"Have a nice Day!\")"
   ]
  },
  {
   "cell_type": "markdown",
   "metadata": {},
   "source": [
    "# elif\n",
    "**With ELIF you can compare multiple values.<br>\n",
    "IF one value meet the condition it will only execute the first matching value even if there are multiple matches.<br>\n",
    "Try it out and change Bill Gates to Elon Musk and input Elon Musk.<br>\n",
    "IF there is no match ELSE will execute.**<br>"
   ]
  },
  {
   "cell_type": "code",
   "execution_count": null,
   "metadata": {
    "scrolled": true
   },
   "outputs": [],
   "source": [
    "# Structures ELIF\n",
    "\n",
    "#raw_input liefert immer einen String zurueck / interpretiert die Eingabe nicht\n",
    "answer = input(\"What's your name? \")\n",
    "\n",
    "if answer == \"Elon Musk\":\n",
    "    print(\"Welcome to the TESLA Remote Control Service\")\n",
    "elif answer == \"Bill Gates\":\n",
    "    print(\"Have you heard about BING? Do you want to try our new EDGE Browser?\")\n",
    "elif answer == \"Jeff Bezos\":\n",
    "    print(\"Hey Alexa, how rich am I today?\")\n",
    "else:\n",
    "    print(\"Your cash balance is too low. Try again.\")"
   ]
  },
  {
   "cell_type": "code",
   "execution_count": null,
   "metadata": {},
   "outputs": [],
   "source": []
  },
  {
   "cell_type": "markdown",
   "metadata": {},
   "source": [
    "### and / or / nested\n",
    "**You can also create if statements with several conditions. You can use \"and\" if you have to meet all conditions and \"or\" if you have to meet at least one condition. You can also combine \"and\" and \"or\".You can also put an IF statetment in an IF statement. So if you meet one condition you can ask for another condition.**"
   ]
  },
  {
   "cell_type": "code",
   "execution_count": null,
   "metadata": {
    "scrolled": true
   },
   "outputs": [],
   "source": [
    "# AND\n",
    "food = str(input(\"Do you want to order the menu of the day?\"))\n",
    "ammount = int(input(\"How many you like to order?\"))\n",
    "\n",
    "# convert the food input to upper case \"YES\" or \"NO\". Because user could write \"yes\",\"no\",\"Yes\",\"No\" etc.\n",
    "if(food.upper() == \"YES\" and ammount <= 3):\n",
    "    print(\"Thank you! Your yummy menu will arrive soon!\")\n",
    "else:\n",
    "    print(\"We are sorry. We can\"t fill your tummy today =(\")"
   ]
  },
  {
   "cell_type": "code",
   "execution_count": null,
   "metadata": {},
   "outputs": [],
   "source": []
  },
  {
   "cell_type": "code",
   "execution_count": null,
   "metadata": {
    "scrolled": true
   },
   "outputs": [],
   "source": [
    "# OR + NESTED\n",
    "food = str(input(\"Would you like an apple or an banana for dessert?\"))\n",
    "\n",
    "# convert the food input to upper case \"YES\" or \"NO\". Because user could write \"yes\",\"no\",\"Yes\",\"No\" etc.\n",
    "if(food.upper() == \"APPLE\" or food.upper() == \"BANANA\"):\n",
    "    \n",
    "    # An IF statement in an IF statement is called nested IF statement.\n",
    "    if(food.upper() == \"APPLE\"):\n",
    "        print(\"Enjoy your tasty \" + food.upper() + \" !\")\n",
    "    elif(food.upper() == \"BANANA\"):\n",
    "        print(\"Enjoy your tasty \" + food.upper() + \" !\")\n",
    "        \n",
    "else:\n",
    "    print(\"Error 404. Fruit not found.\")"
   ]
  },
  {
   "cell_type": "code",
   "execution_count": null,
   "metadata": {},
   "outputs": [],
   "source": []
  },
  {
   "cell_type": "code",
   "execution_count": null,
   "metadata": {
    "scrolled": true
   },
   "outputs": [],
   "source": [
    "# AND + OR\n",
    "food = str(input(\"Would you like an apple or an banana for dessert?\"))\n",
    "ammount = int(input(\"How many you like to order?\"))\n",
    "\n",
    "# convert the food input to upper case \"YES\" or \"NO\". Because user could write \"yes\",\"no\",\"Yes\",\"No\" etc.\n",
    "if(food.upper() == \"APPLE\" or food.upper() == \"BANANA\" and ammount <= 3):\n",
    "    print(\"Thank you! Your yummy dessert will arrive soon!\")\n",
    "else:\n",
    "    print(\"We are sorry. We can\"t fill your tummy today =(\")"
   ]
  },
  {
   "cell_type": "code",
   "execution_count": null,
   "metadata": {},
   "outputs": [],
   "source": []
  },
  {
   "cell_type": "markdown",
   "metadata": {},
   "source": [
    "## Exercise\n",
    "1. Build a bot detector. The program should ask you first if you are a bot.<br>\n",
    "    If you answer \"YES\" the program should give you the task to fill in a random\n",
    "    generated number between 1 and 10000. If you also pass this test it should print \"Welcome human!\"\n",
    "    If you don\"t meet one of the conditions the program should print \"Go away bot!\""
   ]
  },
  {
   "cell_type": "code",
   "execution_count": null,
   "metadata": {},
   "outputs": [],
   "source": [
    "import random\n",
    "\n",
    "bot = str(input(\"Are you a bot?\"))\n",
    "\n",
    "if(bot.upper() == \"NO\"):\n",
    "    randNumber = random.randrange(1,10000)\n",
    "    number = int(input(\"Please enter the following number: \" + str(randNumber )))\n",
    "    if(randNumber == number):\n",
    "        print(\"Welcome human!\")\n",
    "    else:\n",
    "        print(\"Go away bot!\")\n",
    "else:\n",
    "    print(\"Go away bot!\")"
   ]
  },
  {
   "cell_type": "code",
   "execution_count": null,
   "metadata": {},
   "outputs": [],
   "source": []
  },
  {
   "cell_type": "markdown",
   "metadata": {},
   "source": [
    "## More Info on IF/ELSE/ELIF\n",
    "https://www.w3schools.com/python/python_conditions.asp\n"
   ]
  }
 ],
 "metadata": {
  "kernelspec": {
   "display_name": "Python 3",
   "language": "python",
   "name": "python3"
  },
  "language_info": {
   "codemirror_mode": {
    "name": "ipython",
    "version": 3
   },
   "file_extension": ".py",
   "mimetype": "text/x-python",
   "name": "python",
   "nbconvert_exporter": "python",
   "pygments_lexer": "ipython3",
   "version": "3.7.6"
  }
 },
 "nbformat": 4,
 "nbformat_minor": 4
}
