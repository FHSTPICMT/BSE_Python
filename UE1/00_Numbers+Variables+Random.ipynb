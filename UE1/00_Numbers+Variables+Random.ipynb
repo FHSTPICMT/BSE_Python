{
 "cells": [
  {
   "cell_type": "markdown",
   "metadata": {},
   "source": [
    "<img src=\"Images/datatypes.jpg\" alt=\"Drawing\" style=\"width: 300px;\"/>"
   ]
  },
  {
   "cell_type": "markdown",
   "metadata": {},
   "source": [
    "# Numbers"
   ]
  },
  {
   "cell_type": "markdown",
   "metadata": {},
   "source": [
    "### INT (Integer)\n",
    "Integers are just whole numbers, positive or negative. For example: 2 and -2 are examples of integers.\n",
    "\n",
    "**Examples:** 1, 2, -52, 3490, -42\n",
    "### Float (Floating point numbers)\n",
    "Floating point numbers in Python are notable because they have a decimal point in them, or use an exponential (e) to define the number. \n",
    "\n",
    "For example 2.0 and -2.1 are examples of floating point numbers.\n",
    "\n",
    "**Examples:** 3.14159265359, -4.7543, 2345.583, -54323.323434343343\n",
    "\n",
    "4E2 (4 times 10 to the power of 2) is also an example of a floating point number in Python."
   ]
  },
  {
   "cell_type": "markdown",
   "metadata": {},
   "source": [
    "<img src=\"Images/math.png\" alt=\"Drawing\" style=\"width: 300px;\"/>"
   ]
  },
  {
   "cell_type": "markdown",
   "metadata": {},
   "source": [
    "### Basic Arithmetic"
   ]
  },
  {
   "cell_type": "code",
   "execution_count": null,
   "metadata": {},
   "outputs": [],
   "source": [
    "# Addition\n",
    "4+2"
   ]
  },
  {
   "cell_type": "code",
   "execution_count": null,
   "metadata": {},
   "outputs": [],
   "source": [
    "# Subtraction\n",
    "4-2"
   ]
  },
  {
   "cell_type": "code",
   "execution_count": null,
   "metadata": {},
   "outputs": [],
   "source": [
    "# Multiplication\n",
    "4*2"
   ]
  },
  {
   "cell_type": "code",
   "execution_count": null,
   "metadata": {},
   "outputs": [],
   "source": [
    "#  Division\n",
    "5/2"
   ]
  },
  {
   "cell_type": "code",
   "execution_count": null,
   "metadata": {},
   "outputs": [],
   "source": [
    "# Floor Division --> Returns an integer\n",
    "5//2"
   ]
  },
  {
   "cell_type": "code",
   "execution_count": null,
   "metadata": {},
   "outputs": [],
   "source": [
    "# Modulo --> Returns the remainder\n",
    "7%4"
   ]
  },
  {
   "cell_type": "code",
   "execution_count": null,
   "metadata": {},
   "outputs": [],
   "source": [
    "# Powers\n",
    "2**3"
   ]
  },
  {
   "cell_type": "code",
   "execution_count": null,
   "metadata": {
    "scrolled": true
   },
   "outputs": [],
   "source": [
    "# Roots\n",
    "16**0.5"
   ]
  },
  {
   "cell_type": "code",
   "execution_count": null,
   "metadata": {},
   "outputs": [],
   "source": [
    "# Order of operation\n",
    "3+4*10+3"
   ]
  },
  {
   "cell_type": "code",
   "execution_count": null,
   "metadata": {},
   "outputs": [],
   "source": [
    "# User of parantheses\n",
    "(4+3)*(5+2)"
   ]
  },
  {
   "cell_type": "code",
   "execution_count": null,
   "metadata": {},
   "outputs": [],
   "source": [
    "# Random numbers\n",
    "\n",
    "# Import the random module\n",
    "import random \n",
    "\n",
    "# Print a random number in between a range to the console\n",
    "print(random.randrange(1, 10))\n",
    "\n",
    "# Other possibilities to use random https://www.w3schools.com/python/module_random.asp"
   ]
  },
  {
   "cell_type": "markdown",
   "metadata": {},
   "source": [
    "### Variables\n",
    "You can assign numbers and other datatypes a name called a variable.\n",
    "\n",
    "**Declaration Rules:**\n",
    "1. Names can not start with a number. ==> 3lephant = 4\n",
    "2. There can be no spaces in the name, use _ instead. ==> Big Mac = 5; <== Wrong | Correct ==> Big_Mac = 5\n",
    "3. Can't use any of these symbols :'\",<>/?|\\()!@#$%^&*~-+\n",
    "4. It's considered best practice that names are lowercase.\n",
    "5. Avoid using the characters 'l' (lowercase letter el), 'O' (uppercase letter oh), \n",
    "   or 'I' (uppercase letter eye) as **single character** variable names.\n",
    "6. Avoid using words that have special meaning in Python like \"list\" and \"str\""
   ]
  },
  {
   "cell_type": "code",
   "execution_count": 24,
   "metadata": {},
   "outputs": [
    {
     "data": {
      "text/plain": [
       "7"
      ]
     },
     "execution_count": 24,
     "metadata": {},
     "output_type": "execute_result"
    }
   ],
   "source": [
    "# Example\n",
    "\n",
    "# Assign the variables\n",
    "a = 5\n",
    "b = 2\n",
    "\n",
    "a+b"
   ]
  },
  {
   "cell_type": "code",
   "execution_count": 25,
   "metadata": {},
   "outputs": [
    {
     "name": "stdout",
     "output_type": "stream",
     "text": [
      "7\n",
      "123\n"
     ]
    }
   ],
   "source": [
    "# Reassigment\n",
    "\n",
    "# You can write over the value of an existing variable\n",
    "a = 5\n",
    "b = 2\n",
    "\n",
    "c = a+b\n",
    "\n",
    "print(c)\n",
    "\n",
    "c = 123\n",
    "\n",
    "print(c)"
   ]
  },
  {
   "cell_type": "markdown",
   "metadata": {},
   "source": [
    "## Exercise\n",
    "1. Create a program that calculates you inocme after taxes and also shows the ammount of taxes you pay. <br><br>\n",
    "\n",
    "    **You need the variables:**<br>\n",
    "    my_income<br>\n",
    "    tax_rate<br>\n",
    "    net_income<br>\n",
    "    taxes_paid<br><br>\n",
    "\n",
    "    **Print the values net_income and taxes_paid.**<br><br>\n",
    "\n",
    "2. Create a simple lottery game with random.randrange(1, 10). <br><br>\n",
    "    **You need the variables:**<br>\n",
    "    lottery_number<br>\n",
    "    my_guess<br><br>\n",
    "    \n",
    "    **Note: You have to import the random module**\n",
    "    \n",
    "    **Print lottery_number and my_guess.**\n"
   ]
  },
  {
   "cell_type": "code",
   "execution_count": 27,
   "metadata": {},
   "outputs": [
    {
     "name": "stdout",
     "output_type": "stream",
     "text": [
      "2400.0\n",
      "800.0\n"
     ]
    }
   ],
   "source": [
    "# Tax calculator\n",
    "my_income = 3200\n",
    "tax_rate = 0.25\n",
    "net_income = my_income * 0.75\n",
    "taxes_paid = my_income * 0.25\n",
    "\n",
    "print(net_income)\n",
    "print(taxes_paid)"
   ]
  },
  {
   "cell_type": "code",
   "execution_count": 63,
   "metadata": {},
   "outputs": [
    {
     "name": "stdout",
     "output_type": "stream",
     "text": [
      "4\n",
      "4\n"
     ]
    }
   ],
   "source": [
    "# Lottery\n",
    "import random\n",
    "\n",
    "lottery_number = random.randrange(1,10)\n",
    "my_guess = 4\n",
    "\n",
    "print(lottery_number)\n",
    "print(my_guess)"
   ]
  },
  {
   "cell_type": "markdown",
   "metadata": {},
   "source": [
    "## More Info about Numbers / Variables / Random<br>\n",
    "\n",
    "\n",
    "**Numbers**<br>\n",
    "https://www.w3schools.com/python/python_numbers.asp<br>\n",
    "**Variables**<br>\n",
    "https://www.w3schools.com/python/python_variables.asp<br>\n",
    "**Random**<br>\n",
    "https://www.w3schools.com/python/module_random.asp\n"
   ]
  }
 ],
 "metadata": {
  "kernelspec": {
   "display_name": "Python 3",
   "language": "python",
   "name": "python3"
  },
  "language_info": {
   "codemirror_mode": {
    "name": "ipython",
    "version": 3
   },
   "file_extension": ".py",
   "mimetype": "text/x-python",
   "name": "python",
   "nbconvert_exporter": "python",
   "pygments_lexer": "ipython3",
   "version": "3.7.6"
  }
 },
 "nbformat": 4,
 "nbformat_minor": 4
}
