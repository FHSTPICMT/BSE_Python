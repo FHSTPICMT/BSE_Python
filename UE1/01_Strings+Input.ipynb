{
 "cells": [
  {
   "cell_type": "markdown",
   "metadata": {},
   "source": [
    "<img src=\"Images/string.png\" alt=\"Drawing\" style=\"width: 400px;\"/>"
   ]
  },
  {
   "cell_type": "markdown",
   "metadata": {},
   "source": [
    "# Strings\n",
    "\n",
    "Strings are used in Python to record text information, such as names.<br>\n",
    "To create a string in Python you need to use either **single quotes** or **double quotes**. "
   ]
  },
  {
   "cell_type": "code",
   "execution_count": null,
   "metadata": {},
   "outputs": [],
   "source": [
    "# Single Word\n",
    "\"Hello\"\n",
    "\"Hello\""
   ]
  },
  {
   "cell_type": "code",
   "execution_count": null,
   "metadata": {},
   "outputs": [],
   "source": []
  },
  {
   "cell_type": "code",
   "execution_count": null,
   "metadata": {
    "scrolled": true
   },
   "outputs": [],
   "source": [
    "# Entire sentence\n",
    "\"Hello World, how are you? 1\"\n",
    "\"Hello World, how are you? 2\""
   ]
  },
  {
   "cell_type": "code",
   "execution_count": null,
   "metadata": {},
   "outputs": [],
   "source": []
  },
  {
   "cell_type": "markdown",
   "metadata": {},
   "source": [
    "### Watch out using single/double quotes in your sentence !"
   ]
  },
  {
   "cell_type": "code",
   "execution_count": null,
   "metadata": {
    "scrolled": true
   },
   "outputs": [],
   "source": [
    "# Watch out using single/double quotes in your sentence !\n",
    "# WRONG\n",
    "\"So a \"squirrel\" has stolen your homework?!\""
   ]
  },
  {
   "cell_type": "code",
   "execution_count": null,
   "metadata": {},
   "outputs": [],
   "source": []
  },
  {
   "cell_type": "code",
   "execution_count": null,
   "metadata": {},
   "outputs": [],
   "source": [
    "# Correct\n",
    "'So a \"squirrel\" has stolen your homework?!'"
   ]
  },
  {
   "cell_type": "code",
   "execution_count": null,
   "metadata": {},
   "outputs": [],
   "source": []
  },
  {
   "cell_type": "markdown",
   "metadata": {},
   "source": [
    "### Print Strings\n",
    "As you can see at the \"Hello World..\" only the last string will be displayed because this is not the usual way to print data. We will use the same print function we have used in the Numbers chapter."
   ]
  },
  {
   "cell_type": "code",
   "execution_count": null,
   "metadata": {},
   "outputs": [],
   "source": [
    "# Strings without print\n",
    "\"Hello World, how are you? 1\"\n",
    "\"Hello World, how are you? 2\""
   ]
  },
  {
   "cell_type": "code",
   "execution_count": null,
   "metadata": {},
   "outputs": [],
   "source": []
  },
  {
   "cell_type": "code",
   "execution_count": null,
   "metadata": {},
   "outputs": [],
   "source": [
    "# Strings with print\n",
    "print(\"Hello World, how are you? 1\")\n",
    "print(\"Hello World, how are you? 2\")"
   ]
  },
  {
   "cell_type": "code",
   "execution_count": null,
   "metadata": {},
   "outputs": [],
   "source": []
  },
  {
   "cell_type": "code",
   "execution_count": null,
   "metadata": {},
   "outputs": [],
   "source": [
    "# Print with a line break using \\n\n",
    "print(\"Hello World,\\nhow are you?\")"
   ]
  },
  {
   "cell_type": "code",
   "execution_count": null,
   "metadata": {},
   "outputs": [],
   "source": []
  },
  {
   "cell_type": "markdown",
   "metadata": {},
   "source": [
    "### String Concatenation\n",
    "You can combine strings with the + operator"
   ]
  },
  {
   "cell_type": "code",
   "execution_count": null,
   "metadata": {},
   "outputs": [],
   "source": [
    "# Combine strings\n",
    "a = \"Hello \"\n",
    "b = \"World !\"\n",
    "\n",
    "c = a+b\n",
    "\n",
    "print(c)"
   ]
  },
  {
   "cell_type": "code",
   "execution_count": null,
   "metadata": {},
   "outputs": [],
   "source": []
  },
  {
   "cell_type": "markdown",
   "metadata": {},
   "source": [
    "### String Multiplication\n",
    "You can multiplay strings with the * operator"
   ]
  },
  {
   "cell_type": "code",
   "execution_count": null,
   "metadata": {
    "scrolled": true
   },
   "outputs": [],
   "source": [
    "# Multiply Strings strings\n",
    "a = \"Boats ! \"\n",
    "b = a*3\n",
    "\n",
    "print(b)"
   ]
  },
  {
   "cell_type": "code",
   "execution_count": null,
   "metadata": {},
   "outputs": [],
   "source": []
  },
  {
   "cell_type": "markdown",
   "metadata": {},
   "source": [
    "### String Methods\n",
    "Some built in methods to work with strings."
   ]
  },
  {
   "cell_type": "code",
   "execution_count": null,
   "metadata": {},
   "outputs": [],
   "source": [
    "# Make text upper case\n",
    "a = \"HeLlO wOrLd, HoW aRe YoU?\"\n",
    "print(a.upper())\n"
   ]
  },
  {
   "cell_type": "code",
   "execution_count": null,
   "metadata": {},
   "outputs": [],
   "source": []
  },
  {
   "cell_type": "code",
   "execution_count": null,
   "metadata": {},
   "outputs": [],
   "source": [
    "# Make text lower case\n",
    "a = \"HeLlO wOrLd, HoW aRe YoU?\"\n",
    "print(a.lower())"
   ]
  },
  {
   "cell_type": "code",
   "execution_count": null,
   "metadata": {},
   "outputs": [],
   "source": []
  },
  {
   "cell_type": "code",
   "execution_count": null,
   "metadata": {},
   "outputs": [],
   "source": [
    "# Capitalize\n",
    "a = \"HeLlO wOrLd, HoW aRe YoU?\"\n",
    "print(a.capitalize())"
   ]
  },
  {
   "cell_type": "code",
   "execution_count": null,
   "metadata": {},
   "outputs": [],
   "source": []
  },
  {
   "cell_type": "code",
   "execution_count": null,
   "metadata": {},
   "outputs": [],
   "source": [
    "# Remove spaces from start and end of the sentence\n",
    "a = \"     HeLlO wOrLd, HoW aRe YoU?     \"\n",
    "b = a.strip()\n",
    "print(b)"
   ]
  },
  {
   "cell_type": "code",
   "execution_count": null,
   "metadata": {},
   "outputs": [],
   "source": []
  },
  {
   "cell_type": "code",
   "execution_count": null,
   "metadata": {},
   "outputs": [],
   "source": [
    "# Remove defined characters from start and end of the sentence\n",
    "a = \"     HeLlO wOrLd, HoW aRe YoU?     \"\n",
    "b = a.strip(\"HeLlO ?UoYRaWoH,\")\n",
    "print(b)"
   ]
  },
  {
   "cell_type": "code",
   "execution_count": null,
   "metadata": {},
   "outputs": [],
   "source": []
  },
  {
   "cell_type": "markdown",
   "metadata": {},
   "source": [
    "### String Indexing\n",
    "String are a sequence, that means that every character or white space is saved in a list."
   ]
  },
  {
   "cell_type": "code",
   "execution_count": null,
   "metadata": {},
   "outputs": [],
   "source": [
    "# Save a string in a variable\n",
    "boat_name = \"Boaty Mc Boat Face 2\""
   ]
  },
  {
   "cell_type": "code",
   "execution_count": null,
   "metadata": {},
   "outputs": [],
   "source": []
  },
  {
   "cell_type": "code",
   "execution_count": null,
   "metadata": {},
   "outputs": [],
   "source": [
    "# Print the boat name and the length of the sequence\n",
    "print(boat_name)\n",
    "print(len(boat_name))"
   ]
  },
  {
   "cell_type": "code",
   "execution_count": null,
   "metadata": {},
   "outputs": [],
   "source": []
  },
  {
   "cell_type": "code",
   "execution_count": null,
   "metadata": {},
   "outputs": [],
   "source": [
    "# Stat indexing and print the first and last character of boat name\n",
    "# IMPORTANT ! Index count starts at 0(Zero)\n",
    "print(boat_name[0])\n",
    "print(boat_name[19])"
   ]
  },
  {
   "cell_type": "code",
   "execution_count": null,
   "metadata": {},
   "outputs": [],
   "source": []
  },
  {
   "cell_type": "code",
   "execution_count": null,
   "metadata": {
    "scrolled": true
   },
   "outputs": [],
   "source": [
    "# Print only \"Boat\"\n",
    "print(boat_name[:4])\n",
    "# Print Face\n",
    "print(boat_name[14:18])\n",
    "# Print everything\n",
    "print(boat_name[::])\n",
    "# Print everything reverse\n",
    "print(boat_name[::-1])"
   ]
  },
  {
   "cell_type": "code",
   "execution_count": null,
   "metadata": {},
   "outputs": [],
   "source": []
  },
  {
   "cell_type": "markdown",
   "metadata": {},
   "source": [
    "### Input\n",
    "Get input from the user."
   ]
  },
  {
   "cell_type": "code",
   "execution_count": null,
   "metadata": {},
   "outputs": [],
   "source": [
    "# Save the input of an user in a variable and print it\n",
    "userInput = input(\"Are you a robot?\")\n",
    "print(userInput)\n",
    "print(type(userInput))"
   ]
  },
  {
   "cell_type": "code",
   "execution_count": null,
   "metadata": {},
   "outputs": [],
   "source": []
  },
  {
   "cell_type": "code",
   "execution_count": null,
   "metadata": {},
   "outputs": [],
   "source": [
    "# Save a defined input (int) of an user in a variable and print it\n",
    "userInput = int(input(\"How old are you? \"))\n",
    "\n",
    "# To combine an int with a string you have to convert it with str()\n",
    "print(\"You are \" + str(userInput) + \" years old!\")"
   ]
  },
  {
   "cell_type": "code",
   "execution_count": null,
   "metadata": {},
   "outputs": [],
   "source": []
  },
  {
   "cell_type": "markdown",
   "metadata": {},
   "source": [
    "## Exercise\n",
    "1. Build and print the word \"Cat\" out of the Word \"Train Company\" with Indexing and String Concatenation. <br><br>\n",
    "\n",
    "    **You need the variables:**<br>\n",
    "    startWord<br>\n",
    "    indexWord<br><br>\n",
    "\n",
    "2. Recreate and print the following sentence with the same formating. <br><br>\n",
    "\n",
    "    We learned about:<br>\n",
    "    \"Snakes\",<br>\n",
    "    Numbers,<br>\n",
    "    Variables,\n",
    "    Strings<br><br>\n",
    "    \n",
    "    **You need the variables:**<br>\n",
    "    sentence<br><br>\n",
    "    \n",
    "3. Create a program with two input fields that ask for first name and for you last name, save this input in the variables \"firstName\" and \"lastName\". At the end there should be printed \"first-name last-name, you are awesome!\" **everything in upper case**. <br><br>\n",
    "\n",
    "    **You need the variables:**<br>\n",
    "    firstName<br>\n",
    "    lastName<br>\n",
    "    sentence<br><br>\n"
   ]
  },
  {
   "cell_type": "code",
   "execution_count": null,
   "metadata": {},
   "outputs": [],
   "source": [
    "# Exercise 1\n",
    "startWord = \"Train Company\"\n",
    "indexWord = startWord[6]+startWord[2]+startWord[0]\n",
    "\n",
    "print(indexWord)"
   ]
  },
  {
   "cell_type": "code",
   "execution_count": null,
   "metadata": {},
   "outputs": [],
   "source": []
  },
  {
   "cell_type": "code",
   "execution_count": null,
   "metadata": {
    "scrolled": true
   },
   "outputs": [],
   "source": [
    "# Exercise 2\n",
    "sentence = 'We learned about:\\n\"Snakes\",\\nNumbers,\\nVariables,\\nStrings'\n",
    "\n",
    "print(sentence)"
   ]
  },
  {
   "cell_type": "code",
   "execution_count": null,
   "metadata": {},
   "outputs": [],
   "source": []
  },
  {
   "cell_type": "code",
   "execution_count": null,
   "metadata": {},
   "outputs": [],
   "source": [
    "# Exercise 3\n",
    "firstName = input(\"Enter your first name.\")\n",
    "lastName = input(\"Enter your last name\")\n",
    "\n",
    "sentence = firstName + \" \" + lastName + \", you are awesome!\"\n",
    "\n",
    "print(sentence.upper())\n",
    "\n"
   ]
  },
  {
   "cell_type": "code",
   "execution_count": null,
   "metadata": {},
   "outputs": [],
   "source": []
  },
  {
   "cell_type": "markdown",
   "metadata": {},
   "source": [
    "## More Info on Strings\n",
    "https://www.w3schools.com/python/python_strings.asp"
   ]
  }
 ],
 "metadata": {
  "kernelspec": {
   "display_name": "Python 3",
   "language": "python",
   "name": "python3"
  },
  "language_info": {
   "codemirror_mode": {
    "name": "ipython",
    "version": 3
   },
   "file_extension": ".py",
   "mimetype": "text/x-python",
   "name": "python",
   "nbconvert_exporter": "python",
   "pygments_lexer": "ipython3",
   "version": "3.7.6"
  }
 },
 "nbformat": 4,
 "nbformat_minor": 4
}
