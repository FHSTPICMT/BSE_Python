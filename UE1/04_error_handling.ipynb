{
 "cells": [
  {
   "cell_type": "markdown",
   "metadata": {},
   "source": [
    "# Error Handling\n",
    "**Instead of breaking the program it will execute the except.**"
   ]
  },
  {
   "cell_type": "markdown",
   "metadata": {},
   "source": [
    "<img src=\"Images/error.jpeg\" alt=\"Drawing\" style=\"width: 300px;\"/>"
   ]
  },
  {
   "cell_type": "code",
   "execution_count": null,
   "metadata": {},
   "outputs": [],
   "source": [
    "# Structures IF ELSE with Error Handling\n",
    "try:\n",
    "    age = int(input(\"AGE CONTROL!: How old are you? oO \"))\n",
    "    if age >= 18:\n",
    "        print(\"Perfect! Of course you are 18 or older ;-) Come on in !\")\n",
    "    else:\n",
    "        print(\"You are too young ! Maybe try another age... emmm... try again when you are old enough :)\")\n",
    "\n",
    "except ValueError as err:\n",
    "    print(\"Only numbers are allowed!\")\n",
    "    print(err)\n",
    "\n",
    "print (\"Have a nice Day!\")"
   ]
  },
  {
   "cell_type": "code",
   "execution_count": null,
   "metadata": {},
   "outputs": [],
   "source": []
  },
  {
   "cell_type": "markdown",
   "metadata": {},
   "source": [
    "## Try it without Error Handling"
   ]
  },
  {
   "cell_type": "code",
   "execution_count": null,
   "metadata": {},
   "outputs": [],
   "source": [
    "    age = int(input(\"AGE CONTROL!: How old are you? oO \"))\n",
    "    \n",
    "    if age >= 18:\n",
    "        print(\"Perfect! Of course you are 18 or older ;-) Come on in !\")\n",
    "    else:\n",
    "        print(\"You are too young ! Maybe try another age... emmm... try again when you are old enough :)\")"
   ]
  },
  {
   "cell_type": "code",
   "execution_count": null,
   "metadata": {},
   "outputs": [],
   "source": []
  },
  {
   "cell_type": "markdown",
   "metadata": {},
   "source": [
    "### Exercise\n",
    "1. Write an program that asks for width, length and heigt of an object and also if it is some kind of dangerous good.<br>\n",
    "    The user input should be checked if it is not larger than 10m², not higher than 2m and not dangerous. <br>\n",
    "    Print \"Thank you! Your object qualifies for shipping\". <br>\n",
    "    Also include an else statement that notifies you what isnt corresponding to the rules.<br>\n",
    "    Include the Error Handling with float numbers and strings<br>\n",
    "    and print 'Sorry, wrong input\" if the user uses something else."
   ]
  },
  {
   "cell_type": "code",
   "execution_count": null,
   "metadata": {},
   "outputs": [],
   "source": [
    "# Transport Check\n",
    "\n",
    "sizeCheck = False\n",
    "heightCheck = False\n",
    "dangerCheck = False\n",
    "\n",
    "try:\n",
    "    width = float(input(\"How wide is the object? \"))\n",
    "    length = float(input(\"How long is the object? \"))\n",
    "    height = float(input(\"How tall is the object? \"))\n",
    "except ValueError as err:\n",
    "    print(\"Only numbers are allowed.\")\n",
    "    print(err)\n",
    "\n",
    "try:\n",
    "    dangerous = str(input(\"Is the object a dangerous good? \"))\n",
    "except ValueError as err:\n",
    "    print(\"Only Yes or No is allowed.\")\n",
    "    print(err)\n",
    "\n",
    "\n",
    "if(width*height <=10):\n",
    "    sizeCheck = True\n",
    "    \n",
    "if(height <= 2):\n",
    "    heightCheck = True\n",
    "    \n",
    "if(dangerous.upper() == \"No\"):\n",
    "    dangerCheck = True\n",
    "    \n",
    "if(sizeCheck == True and heightCheck == True and dangerCheck == True):\n",
    "    print(\"Thank you! Your object qualifies for shipping\")\n",
    "else:\n",
    "    print(\"\\nWe can't tansport your object because of the following reasons:\")\n",
    "    print(\"------------------------------------------------------------------\")\n",
    "    \n",
    "    if(sizeCheck == False):\n",
    "        print(\"Your object surface is too big!\")\n",
    "    if(heightCheck == False):\n",
    "        print(\"Your object is too large!\")\n",
    "    if(dangerCheck == False):\n",
    "        print(\"We can't transport dangerous goods!\")\n",
    "        \n",
    "    \n",
    "\n",
    "\n"
   ]
  },
  {
   "cell_type": "code",
   "execution_count": null,
   "metadata": {},
   "outputs": [],
   "source": []
  }
 ],
 "metadata": {
  "kernelspec": {
   "display_name": "Python 3",
   "language": "python",
   "name": "python3"
  },
  "language_info": {
   "codemirror_mode": {
    "name": "ipython",
    "version": 3
   },
   "file_extension": ".py",
   "mimetype": "text/x-python",
   "name": "python",
   "nbconvert_exporter": "python",
   "pygments_lexer": "ipython3",
   "version": "3.7.6"
  }
 },
 "nbformat": 4,
 "nbformat_minor": 4
}
