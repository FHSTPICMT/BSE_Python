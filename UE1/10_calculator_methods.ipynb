{
 "cells": [
  {
   "cell_type": "code",
   "execution_count": 1,
   "metadata": {},
   "outputs": [
    {
     "name": "stdout",
     "output_type": "stream",
     "text": [
      "\n",
      "      ====================================================\n",
      "      ==                 Taschenrechner                 ==\n",
      "      ====================================================\n",
      "    \n",
      "Gib die erste Zahl ein: 12\n",
      "Welche Rechenoperation soll durchgefuehrt werden? 12\n",
      "Gib die zweite Zahl ein: 12\n",
      "Keine gueltige Eingabe\n"
     ]
    }
   ],
   "source": [
    "print(\"\"\"\n",
    "      ====================================================\n",
    "      ==                 Taschenrechner                 ==\n",
    "      ====================================================\n",
    "    \"\"\")\n",
    "\n",
    "def add(a , b):\n",
    "      return a + b\n",
    "\n",
    "def minus(a , b):\n",
    "      return a - b\n",
    "\n",
    "def divide(a , b):\n",
    "      return a /b\n",
    "\n",
    "def multiple(a , b):\n",
    "      return a * b\n",
    "\n",
    "\n",
    "num1 = input(\"Gib die erste Zahl ein: \")\n",
    "oper = input(\"Welche Rechenoperation soll durchgefuehrt werden? \")\n",
    "num2 = input(\"Gib die zweite Zahl ein: \")\n",
    "\n",
    "num1 = int(num1)\n",
    "num2 = int(num2)\n",
    "\n",
    "\n",
    "if (oper == \"+\"):\n",
    "    print(\"Deine Rechnung: \",\n",
    "\n",
    "          num1, \" + \", num2)\n",
    "    print(\"Ergebnis: \", add(num1, num2))\n",
    "\n",
    "elif (oper == \"-\"):\n",
    "    print(\"Deine Rechnung: \",\n",
    "          num1, \" - \", num2)\n",
    "    print(\"Ergebnis: \", minus(num1, num2))\n",
    "\n",
    "elif (oper == \"/\"):\n",
    "    print(\"Deine Rechnung: \",\n",
    "          num1, \" / \", num2)\n",
    "    print(\"Ergebnis: \",divide(num1, num2))\n",
    "\n",
    "elif (oper == \"*\"):\n",
    "    print(\"Deine Rechnung: \",\n",
    "          num1, \" * \", num2)\n",
    "    print(\"Ergebnis: \",\n",
    "          multiple(num1, num2))\n",
    "\n",
    "else:\n",
    "     print(\"Keine gueltige Eingabe\")"
   ]
  },
  {
   "cell_type": "code",
   "execution_count": null,
   "metadata": {},
   "outputs": [],
   "source": []
  }
 ],
 "metadata": {
  "kernelspec": {
   "display_name": "Python 3",
   "language": "python",
   "name": "python3"
  },
  "language_info": {
   "codemirror_mode": {
    "name": "ipython",
    "version": 3
   },
   "file_extension": ".py",
   "mimetype": "text/x-python",
   "name": "python",
   "nbconvert_exporter": "python",
   "pygments_lexer": "ipython3",
   "version": "3.7.6"
  }
 },
 "nbformat": 4,
 "nbformat_minor": 4
}
