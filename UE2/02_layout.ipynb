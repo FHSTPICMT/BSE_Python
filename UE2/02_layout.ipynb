{
 "cells": [
  {
   "cell_type": "code",
   "execution_count": 1,
   "metadata": {},
   "outputs": [],
   "source": [
    "from tkinter import *\n",
    "\n",
    "root = Tk()\n",
    "\n",
    "#PADX/Y --> Padding from chosen axis / SIDE --> Where to start placing\n",
    "w = Label(root, text=\"red\", bg=\"red\", fg=\"white\")\n",
    "w.pack(padx=5, pady=10, side=LEFT)\n",
    "w = Label(root, text=\"green\", bg=\"green\", fg=\"black\")\n",
    "w.pack(padx=5, pady=20, side=LEFT)\n",
    "w = Label(root, text=\"blue\", bg=\"blue\", fg=\"white\")\n",
    "w.pack(padx=5, pady=20, side=LEFT)\n",
    "\n",
    "mainloop()"
   ]
  }
 ],
 "metadata": {
  "kernelspec": {
   "display_name": "Python 3",
   "language": "python",
   "name": "python3"
  },
  "language_info": {
   "codemirror_mode": {
    "name": "ipython",
    "version": 3
   },
   "file_extension": ".py",
   "mimetype": "text/x-python",
   "name": "python",
   "nbconvert_exporter": "python",
   "pygments_lexer": "ipython3",
   "version": "3.7.6"
  }
 },
 "nbformat": 4,
 "nbformat_minor": 4
}
