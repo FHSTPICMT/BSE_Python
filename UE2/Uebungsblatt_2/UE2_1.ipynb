{
 "cells": [
  {
   "cell_type": "code",
   "execution_count": 8,
   "metadata": {},
   "outputs": [
    {
     "name": "stdout",
     "output_type": "stream",
     "text": [
      "You hit return.\n",
      "You hit return.\n"
     ]
    }
   ],
   "source": [
    "from tkinter import *\n",
    "from tkinter import messagebox\n",
    "\n",
    "root = Tk()\n",
    "\n",
    "#Execute function with Keypress \n",
    "def func(event):\n",
    "    print(\"You hit return.\")\n",
    "    showName()\n",
    "root.bind('<Return>', func)\n",
    "\n",
    "def showName():\n",
    "    if nameVar.get() != \"\":\n",
    "        messagebox.showinfo(\"Name Info\", nameVar.get())\n",
    "    else:\n",
    "        messagebox.showinfo(\"ERROR\", \"Enter your Name!\")\n",
    "\n",
    "nameVar = StringVar()\n",
    "\n",
    "L1 = Label(root, text=\"Enter your Name: \")\n",
    "L1.pack()\n",
    "E1 = Entry(root, bd =5,textvariable = nameVar)\n",
    "E1.pack()\n",
    "B1 = Button(root, text=\"Send\", command=lambda: showName())\n",
    "B1.pack()\n",
    "\n",
    "root.mainloop()\n"
   ]
  }
 ],
 "metadata": {
  "kernelspec": {
   "display_name": "Python 3",
   "language": "python",
   "name": "python3"
  },
  "language_info": {
   "codemirror_mode": {
    "name": "ipython",
    "version": 3
   },
   "file_extension": ".py",
   "mimetype": "text/x-python",
   "name": "python",
   "nbconvert_exporter": "python",
   "pygments_lexer": "ipython3",
   "version": "3.7.6"
  }
 },
 "nbformat": 4,
 "nbformat_minor": 4
}
