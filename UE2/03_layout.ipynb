{
 "cells": [
  {
   "cell_type": "code",
   "execution_count": 4,
   "metadata": {},
   "outputs": [],
   "source": [
    "from tkinter import *\n",
    "\n",
    "colours = ['red','green','orange','white','yellow','blue']\n",
    "\n",
    "#Create a grid with a for loop and the colours array\n",
    "r = 0\n",
    "for c in colours:\n",
    "    #Create the label\n",
    "    Label(text=c, relief=RIDGE,width=15).grid(row=r,column=0)\n",
    "    #Create an input-field\n",
    "    Entry(bg=c, relief=SUNKEN,width=10).grid(row=r,column=1)\n",
    "    #r = r + 1\n",
    "    #Shorter version\n",
    "    r += 1\n",
    "mainloop()"
   ]
  }
 ],
 "metadata": {
  "kernelspec": {
   "display_name": "Python 3",
   "language": "python",
   "name": "python3"
  },
  "language_info": {
   "codemirror_mode": {
    "name": "ipython",
    "version": 3
   },
   "file_extension": ".py",
   "mimetype": "text/x-python",
   "name": "python",
   "nbconvert_exporter": "python",
   "pygments_lexer": "ipython3",
   "version": "3.7.6"
  }
 },
 "nbformat": 4,
 "nbformat_minor": 4
}
