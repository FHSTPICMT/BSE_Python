{
 "cells": [
  {
   "cell_type": "code",
   "execution_count": 2,
   "metadata": {},
   "outputs": [],
   "source": [
    "#https://www.tutorialspoint.com/python/python_gui_programming.htm\n",
    "from tkinter import *\n",
    "from tkinter import ttk\n",
    "\n",
    "root = Tk()\n",
    "\n",
    "content = ttk.Frame(root)\n",
    "namelbl = ttk.Label(content, text=\"Here is my text\")\n",
    "name = ttk.Entry(content)\n",
    "\n",
    "onevar = BooleanVar()\n",
    "twovar = BooleanVar()\n",
    "threevar = BooleanVar()\n",
    "onevar.set(True)\n",
    "twovar.set(False)\n",
    "threevar.set(True)\n",
    "\n",
    "one = ttk.Checkbutton(content, text=\"One\", variable=onevar, onvalue=True)\n",
    "two = ttk.Checkbutton(content, text=\"Two\", variable=twovar, onvalue=True)\n",
    "three = ttk.Checkbutton(content, text=\"Three\", variable=threevar, onvalue=True)\n",
    "ok = ttk.Button(content, text=\"Okay\")\n",
    "cancel = ttk.Button(content, text=\"Cancel\")\n",
    "\n",
    "content.grid(column=0, row=0)\n",
    "namelbl.grid(column=3, row=0, columnspan=20)\n",
    "name.grid(column=3, row=1, columnspan=20)\n",
    "one.grid(column=0, row=2)\n",
    "two.grid(column=1, row=2)\n",
    "three.grid(column=2, row=2)\n",
    "ok.grid(column=3, row=3)\n",
    "cancel.grid(column=4, row=3)\n",
    "\n",
    "root.mainloop()"
   ]
  }
 ],
 "metadata": {
  "kernelspec": {
   "display_name": "Python 3",
   "language": "python",
   "name": "python3"
  },
  "language_info": {
   "codemirror_mode": {
    "name": "ipython",
    "version": 3
   },
   "file_extension": ".py",
   "mimetype": "text/x-python",
   "name": "python",
   "nbconvert_exporter": "python",
   "pygments_lexer": "ipython3",
   "version": "3.7.6"
  }
 },
 "nbformat": 4,
 "nbformat_minor": 4
}
