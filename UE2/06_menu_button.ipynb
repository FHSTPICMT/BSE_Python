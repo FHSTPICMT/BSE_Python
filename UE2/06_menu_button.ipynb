{
 "cells": [
  {
   "cell_type": "code",
   "execution_count": 1,
   "metadata": {},
   "outputs": [],
   "source": [
    "#https://www.tutorialspoint.com/python/tk_menubutton.htm\n",
    "from tkinter import *\n",
    "from tkinter import messagebox\n",
    "\n",
    "\n",
    "root = Tk()\n",
    "\n",
    "#Define menubuttons\n",
    "mb=  Menubutton ( root, text=\"condiments\", relief=RAISED )\n",
    "mb2 = Menubutton ( root, text=\"garnish\", relief=RAISED )\n",
    "#Place on grid\n",
    "mb.grid(row= 1, column=1)\n",
    "mb2.grid(row= 1, column=2)\n",
    "\n",
    "def checkState(state):\n",
    "    if state == 1:\n",
    "        print(\"ON\")\n",
    "    else:\n",
    "        print(\"OFF\")\n",
    "\n",
    "#tearoff makes the menu item detachable\n",
    "mb.menu =  Menu ( mb, tearoff = 0)\n",
    "mb[\"menu\"] =  mb.menu\n",
    "\n",
    "mb2.menu =  Menu ( mb2, tearoff = 1 )\n",
    "mb2[\"menu\"] =  mb2.menu\n",
    "\n",
    "#Create variables for the checkbuttons to check state 0 or 1\n",
    "mayoVar = IntVar()\n",
    "ketchVar = IntVar()\n",
    "mustVar = IntVar()\n",
    "\n",
    "onionsVar = IntVar()\n",
    "pickelsVar = IntVar()\n",
    "sauerkrautVar = IntVar()\n",
    "jalapenoVar = IntVar()\n",
    "\n",
    "#Add checkbuttons to the menu\n",
    "mb.menu.add_checkbutton ( label=\"mayo\",\n",
    "                          variable=mayoVar, command=lambda:checkState(mayoVar.get()))\n",
    "mb.menu.add_checkbutton ( label=\"ketchup\",\n",
    "                          variable=ketchVar, command=lambda:checkState(ketchVar.get()))\n",
    "mb.menu.add_checkbutton ( label=\"mustard\",\n",
    "                          variable=ketchVar, command=lambda:checkState(mustVar.get()))\n",
    "\n",
    "mb2.menu.add_checkbutton ( label=\"onions\",\n",
    "                          variable=onionsVar, command=lambda:checkState(onionsVar.get()))\n",
    "mb2.menu.add_checkbutton ( label=\"pickels\",\n",
    "                          variable=pickelsVar, command=lambda:checkState(pickelsVar.get()))\n",
    "mb2.menu.add_checkbutton ( label=\"sauerkraut\",\n",
    "                          variable=sauerkrautVar, command=lambda:checkState(sauerkrautVar.get()))\n",
    "mb2.menu.add_checkbutton ( label=\"jalapeño\",\n",
    "                          variable=jalapenoVar, command=lambda:checkState(jalapenoVar.get()))\n",
    "\n",
    "#Set Checkbox to On State\n",
    "mayoVar.set(1)\n",
    "\n",
    "#mb.pack()\n",
    "root.mainloop()"
   ]
  },
  {
   "cell_type": "code",
   "execution_count": null,
   "metadata": {},
   "outputs": [],
   "source": []
  }
 ],
 "metadata": {
  "kernelspec": {
   "display_name": "Python 3",
   "language": "python",
   "name": "python3"
  },
  "language_info": {
   "codemirror_mode": {
    "name": "ipython",
    "version": 3
   },
   "file_extension": ".py",
   "mimetype": "text/x-python",
   "name": "python",
   "nbconvert_exporter": "python",
   "pygments_lexer": "ipython3",
   "version": "3.7.6"
  }
 },
 "nbformat": 4,
 "nbformat_minor": 4
}
