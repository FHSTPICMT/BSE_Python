{
 "cells": [
  {
   "cell_type": "code",
   "execution_count": 13,
   "metadata": {},
   "outputs": [],
   "source": [
    "from tkinter import * \n",
    "from tkinter import ttk\n",
    "\n",
    "#Define Root\n",
    "root = Tk()\n",
    "\n",
    "#Define Frame\n",
    "content = ttk.Frame(root)\n",
    "\n",
    "#Define Buttons\n",
    "ok = ttk.Button(content, text=\"Okay\")\n",
    "cancel = ttk.Button(content, text=\"Cancel\")\n",
    "ok1 = ttk.Button(content, text=\"Okay 1\")\n",
    "cancel1 = ttk.Button(content, text=\"Cancel 1\")\n",
    "ok2 = ttk.Button(content, text=\"Okay 2\")\n",
    "cancel2 = ttk.Button(content, text=\"Cancel 2\")\n",
    "\n",
    "#Create grid\n",
    "content.grid(column=0, row=0)\n",
    "\n",
    "#Place Content with GRID --> Organizes the widgets on a grid/table, like excel\n",
    "ok.grid(column=3, row=1)\n",
    "cancel.grid(column=2, row=1)\n",
    "ok1.grid(column=1, row=2)\n",
    "cancel1.grid(column=2, row=2)\n",
    "ok2.grid(column=1, row=3)\n",
    "cancel2.grid(column=2, row=3)\n",
    "\n",
    "#Execute GUI\n",
    "root.mainloop()"
   ]
  }
 ],
 "metadata": {
  "kernelspec": {
   "display_name": "Python 3",
   "language": "python",
   "name": "python3"
  },
  "language_info": {
   "codemirror_mode": {
    "name": "ipython",
    "version": 3
   },
   "file_extension": ".py",
   "mimetype": "text/x-python",
   "name": "python",
   "nbconvert_exporter": "python",
   "pygments_lexer": "ipython3",
   "version": "3.7.6"
  }
 },
 "nbformat": 4,
 "nbformat_minor": 4
}
