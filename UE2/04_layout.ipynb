{
 "cells": [
  {
   "cell_type": "code",
   "execution_count": 1,
   "metadata": {},
   "outputs": [
    {
     "name": "stdout",
     "output_type": "stream",
     "text": [
      "Decimal: [88, 159, 193]\n",
      "Hexadecimal: 589fc1\n",
      "Decimal: [143, 2, 60]\n",
      "Hexadecimal: 8f023c\n",
      "Decimal: [239, 74, 231]\n",
      "Hexadecimal: ef4ae7\n",
      "Decimal: [237, 20, 197]\n",
      "Hexadecimal: ed14c5\n",
      "Decimal: [8, 201, 29]\n",
      "Hexadecimal: 08c91d\n"
     ]
    }
   ],
   "source": [
    "import tkinter as tk\n",
    "import random\n",
    "    \n",
    "root = tk.Tk()\n",
    "# width x height + x_offset + y_offset:\n",
    "root.geometry(\"170x200+30+30\") \n",
    "     \n",
    "languages = ['Python','Perl','C++','Java','Tcl/Tk']\n",
    "\n",
    "#labels = range(5) --> warum ?\n",
    "\n",
    "for i in range(5):\n",
    "    #Create a rgb value 3 times\n",
    "    ct = [random.randrange(256) for x in range(3)]\n",
    "    \n",
    "    #Calculate luminance value 0.299*R + 0.587*G + 0.114*B\n",
    "    #https://stackoverflow.com/questions/596216/formula-to-determine-brightness-of-rgb-color\n",
    "    brightness = int(round(0.299*ct[0] + 0.587*ct[1] + 0.114*ct[2]))\n",
    "    \n",
    "    #Set color code by converting the decimal values of ct to hexadecimal values\n",
    "    #A tuple is a collection which is ordered and unchangeable.\n",
    "    ct_hex = \"%02x%02x%02x\" % tuple(ct)\n",
    "    \n",
    "    print(\"Decimal: \" + str(ct))\n",
    "    print(\"Hexadecimal: \" + ct_hex)\n",
    "    \n",
    "    #Set bg-color\n",
    "    bg_colour = '#' + \"\".join(ct_hex)\n",
    "    \n",
    "    #Define label\n",
    "    #Match font color to bg-color\n",
    "    l = tk.Label(root, \n",
    "                    text=languages[i], \n",
    "                    fg='White' if brightness < 120 else 'Black', \n",
    "                    bg=bg_colour)\n",
    "    \n",
    "    #place the label with distance to each other\n",
    "    l.place(x = 20, y = 30 + i*30, width=120, height=25)\n",
    "          \n",
    "root.mainloop()"
   ]
  }
 ],
 "metadata": {
  "kernelspec": {
   "display_name": "Python 3",
   "language": "python",
   "name": "python3"
  },
  "language_info": {
   "codemirror_mode": {
    "name": "ipython",
    "version": 3
   },
   "file_extension": ".py",
   "mimetype": "text/x-python",
   "name": "python",
   "nbconvert_exporter": "python",
   "pygments_lexer": "ipython3",
   "version": "3.7.6"
  }
 },
 "nbformat": 4,
 "nbformat_minor": 4
}
