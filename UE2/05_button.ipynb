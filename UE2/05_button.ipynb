{
 "cells": [
  {
   "cell_type": "code",
   "execution_count": 5,
   "metadata": {},
   "outputs": [],
   "source": [
    "#https://www.tutorialspoint.com/python/tk_button.htm\n",
    "import tkinter\n",
    "from tkinter import messagebox\n",
    "\n",
    "top = tkinter.Tk()\n",
    "\n",
    "#Define function\n",
    "def helloCallBack():\n",
    "    #Create popup message box: 1st Messagebox Title / 2nd Messagebox Content\n",
    "    messagebox.showinfo( \"Hello Python\", \"Hello World\")\n",
    "\n",
    "#Define button and set command to call the function\n",
    "B = tkinter.Button(top, text =\"Hello\", command = helloCallBack)\n",
    "\n",
    "#Place button\n",
    "B.pack()\n",
    "\n",
    "top.mainloop()"
   ]
  }
 ],
 "metadata": {
  "kernelspec": {
   "display_name": "Python 3",
   "language": "python",
   "name": "python3"
  },
  "language_info": {
   "codemirror_mode": {
    "name": "ipython",
    "version": 3
   },
   "file_extension": ".py",
   "mimetype": "text/x-python",
   "name": "python",
   "nbconvert_exporter": "python",
   "pygments_lexer": "ipython3",
   "version": "3.7.6"
  }
 },
 "nbformat": 4,
 "nbformat_minor": 4
}
