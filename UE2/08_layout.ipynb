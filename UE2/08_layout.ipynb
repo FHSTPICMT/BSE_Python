{
 "cells": [
  {
   "cell_type": "code",
   "execution_count": null,
   "metadata": {},
   "outputs": [],
   "source": [
    "import tkinter as tk\n",
    "import random\n",
    "    \n",
    "root = tk.Tk()\n",
    "# width x height + x_offset + y_offset:\n",
    "root.geometry(\"170x200+30+30\") \n",
    "     \n",
    "languages = ['Python','Perl','C++','Java','Tcl/Tk']\n",
    "labels = range(5)\n",
    "\n",
    "for i in range(5):\n",
    "   \n",
    "   ct = [random.randrange(256) for x in range(3)]\n",
    "   brightness = int(round(0.299*ct[0] + 0.587*ct[1] + 0.114*ct[2]))\n",
    "   ct_hex = \"%02x%02x%02x\" % tuple(ct)\n",
    "   bg_colour = '#' + \"\".join(ct_hex)\n",
    "   \n",
    "   l = tk.Label(root, \n",
    "                text=languages[i], \n",
    "                fg='White' if brightness < 120 else 'Black', \n",
    "                bg=bg_colour)\n",
    "   l.place(x = 20, y = 30 + i*30, width=120, height=25)\n",
    "          \n",
    "root.mainloop()"
   ]
  },
  {
   "cell_type": "code",
   "execution_count": null,
   "metadata": {},
   "outputs": [],
   "source": []
  }
 ],
 "metadata": {
  "kernelspec": {
   "display_name": "Python 3",
   "language": "python",
   "name": "python3"
  },
  "language_info": {
   "codemirror_mode": {
    "name": "ipython",
    "version": 3
   },
   "file_extension": ".py",
   "mimetype": "text/x-python",
   "name": "python",
   "nbconvert_exporter": "python",
   "pygments_lexer": "ipython3",
   "version": "3.7.6"
  }
 },
 "nbformat": 4,
 "nbformat_minor": 4
}
