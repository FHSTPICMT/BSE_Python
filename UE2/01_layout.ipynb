{
 "cells": [
  {
   "cell_type": "code",
   "execution_count": 1,
   "metadata": {},
   "outputs": [],
   "source": [
    "from tkinter import *\n",
    "\n",
    "root = Tk()\n",
    "\n",
    "#Place the content with PACK --> Organizes the widgets in blocks\n",
    "Label(root, text=\"Red Sun\", bg=\"red\", fg=\"white\").pack()\n",
    "Label(root, text=\"Green Grass\", bg=\"green\", fg=\"black\").pack()\n",
    "Label(root, text=\"Blue Sky\", bg=\"blue\", fg=\"white\").pack()\n",
    "Button(root, text=\"Okay\").pack()\n",
    "\n",
    "mainloop()"
   ]
  }
 ],
 "metadata": {
  "kernelspec": {
   "display_name": "Python 3",
   "language": "python",
   "name": "python3"
  },
  "language_info": {
   "codemirror_mode": {
    "name": "ipython",
    "version": 3
   },
   "file_extension": ".py",
   "mimetype": "text/x-python",
   "name": "python",
   "nbconvert_exporter": "python",
   "pygments_lexer": "ipython3",
   "version": "3.7.6"
  }
 },
 "nbformat": 4,
 "nbformat_minor": 4
}
